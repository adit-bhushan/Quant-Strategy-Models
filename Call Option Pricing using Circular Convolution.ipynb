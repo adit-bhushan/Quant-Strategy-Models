{
 "cells": [
  {
   "cell_type": "code",
   "execution_count": 4,
   "id": "7be0b143",
   "metadata": {},
   "outputs": [],
   "source": [
    "import numpy as np\n",
    "from convolution import revnp, convolution\n",
    "from parameters import *"
   ]
  },
  {
   "cell_type": "code",
   "execution_count": 6,
   "id": "af714d5f",
   "metadata": {},
   "outputs": [
    {
     "name": "stdout",
     "output_type": "stream",
     "text": [
      "Value of call option is 11.043871091951113\n"
     ]
    },
    {
     "name": "stderr",
     "output_type": "stream",
     "text": [
      "/tmp/ipykernel_127/711837597.py:15: DeprecationWarning: `np.float` is a deprecated alias for the builtin `float`. To silence this warning, use `float` by itself. Doing this will not modify any behavior and is safe. If you specifically wanted the numpy scalar type, use `np.float64` here.\n",
      "Deprecated in NumPy 1.20; for more details and guidance: https://numpy.org/devdocs/release/1.20.0-notes.html#deprecations\n",
      "  qv = np.zeros((M + 1), dtype=np.float)\n"
     ]
    }
   ],
   "source": [
    "# Parmeter Adjustments\n",
    "M = 3  # number of time steps\n",
    "dt, df, u, d, q = get_binomial_parameters(M)\n",
    "\n",
    "# Array Generation for Stock Prices\n",
    "mu = np.arange(M + 1)\n",
    "mu = np.resize(mu, (M + 1, M + 1))\n",
    "md = np.transpose(mu)\n",
    "mu = u ** (mu - md)\n",
    "md = d ** md\n",
    "S = S0 * mu * md\n",
    "\n",
    "# Valuation\n",
    "V = np.maximum(S - K, 0)\n",
    "qv = np.zeros((M + 1), dtype=np.float)\n",
    "qv[0] = q\n",
    "qv[1] = 1 - q\n",
    "for t in range(M - 1, -1, -1):\n",
    "    V[:, t] = convolution(V[:, t + 1], revnp(qv)) * df\n",
    "\n",
    "value_call_option = V[0, 0]\n",
    "print(f'Value of call option is {value_call_option}')"
   ]
  },
  {
   "cell_type": "code",
   "execution_count": null,
   "id": "2e8295b9",
   "metadata": {},
   "outputs": [],
   "source": []
  }
 ],
 "metadata": {
  "kernelspec": {
   "display_name": "Python 3 (ipykernel)",
   "language": "python",
   "name": "python3"
  },
  "language_info": {
   "codemirror_mode": {
    "name": "ipython",
    "version": 3
   },
   "file_extension": ".py",
   "mimetype": "text/x-python",
   "name": "python",
   "nbconvert_exporter": "python",
   "pygments_lexer": "ipython3",
   "version": "3.8.13"
  }
 },
 "nbformat": 4,
 "nbformat_minor": 5
}
