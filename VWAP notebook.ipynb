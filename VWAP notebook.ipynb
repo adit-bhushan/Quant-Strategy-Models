{
 "cells": [
  {
   "cell_type": "code",
   "execution_count": 6,
   "metadata": {},
   "outputs": [
    {
     "name": "stdout",
     "output_type": "stream",
     "text": [
      "VWAP:  8.664746655041299\n",
      "TWAP:  8.667893617021265\n"
     ]
    }
   ],
   "source": [
    "import csv\n",
    "\n",
    "data_path = \"data.csv\"\n",
    "\n",
    "# read the csv file to get market data\n",
    "def readData(path):\n",
    "    marketDataTable = list()\n",
    "    with open(data_path) as csv_file:\n",
    "        csv_reader = csv.reader(csv_file)\n",
    "        for row in csv_reader:\n",
    "            marketDataTable.append(row)\n",
    "    return marketDataTable\n",
    "\n",
    "# calculate vwap value\n",
    "def calc_vwap(marketDataTable):\n",
    "    n = len(marketDataTable) - 1\n",
    "    total_sum = 0.0\n",
    "    volume_sum = 0\n",
    "    for i in range(1, n + 1):\n",
    "        high_price = float(marketDataTable[i][9])\n",
    "        low_price = float(marketDataTable[i][10])\n",
    "        price = (high_price + low_price) / 2\n",
    "        volume = int(marketDataTable[i][11])\n",
    "        total_sum += price * volume\n",
    "        volume_sum += volume\n",
    "    return total_sum / volume_sum\n",
    "\n",
    "# calculate vwap value\n",
    "def calc_twap(marketDataTable):\n",
    "    n = len(marketDataTable) - 1\n",
    "    price_sum = 0.0\n",
    "    for i in range(1, n + 1):\n",
    "        high_price = float(marketDataTable[i][9])\n",
    "        low_price = float(marketDataTable[i][10])\n",
    "        price = (high_price + low_price) / 2\n",
    "        price_sum += price\n",
    "    return price_sum / n\n",
    "\n",
    "if __name__ == \"__main__\":\n",
    "    marketDataTable = readData(filePath)\n",
    "    print(\"VWAP: \", calc_vwap(marketDataTable))\n",
    "    print(\"TWAP: \", calc_twap(marketDataTable)) "
   ]
  },
  {
   "cell_type": "code",
   "execution_count": null,
   "metadata": {},
   "outputs": [],
   "source": []
  }
 ],
 "metadata": {
  "kernelspec": {
   "display_name": "Python 3 (ipykernel)",
   "language": "python",
   "name": "python3"
  },
  "language_info": {
   "codemirror_mode": {
    "name": "ipython",
    "version": 3
   },
   "file_extension": ".py",
   "mimetype": "text/x-python",
   "name": "python",
   "nbconvert_exporter": "python",
   "pygments_lexer": "ipython3",
   "version": "3.8.13"
  }
 },
 "nbformat": 4,
 "nbformat_minor": 2
}
