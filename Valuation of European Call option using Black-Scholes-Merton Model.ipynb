{
 "cells": [
  {
   "cell_type": "code",
   "execution_count": 7,
   "id": "55642e60",
   "metadata": {},
   "outputs": [],
   "source": [
    "from scipy import stats\n",
    "import math"
   ]
  },
  {
   "cell_type": "code",
   "execution_count": 8,
   "id": "9959e350",
   "metadata": {},
   "outputs": [],
   "source": [
    "# Option Parameters\n",
    "S0 = 105.00  # initial index level\n",
    "K = 100.00  # strike price\n",
    "T = 1.  # call option maturity\n",
    "r = 0.05  # constant short rate\n",
    "vola = 0.25  # constant volatility factor of diffusion"
   ]
  },
  {
   "cell_type": "code",
   "execution_count": 11,
   "id": "08b39515",
   "metadata": {},
   "outputs": [],
   "source": [
    "def BSM_call_value(S0, K, T, r, vola):\n",
    "    ''' Analytical European call option value for Black-Scholes-Merton'''\n",
    "    S0 = float(S0)  # make sure to have float type\n",
    "    d1 = (math.log(S0 / K) + (r + 0.5 * vola ** 2) * T) / (vola * math.sqrt(T))\n",
    "    d2 = d1 - vola * math.sqrt(T)\n",
    "    call_value = (S0 * stats.norm.cdf(d1, 0.0, 1.0) -\n",
    "                  K * math.exp(-r * T) * stats.norm.cdf(d2, 0.0, 1.0))\n",
    "    return call_value"
   ]
  },
  {
   "cell_type": "code",
   "execution_count": 16,
   "id": "0889dfc7",
   "metadata": {},
   "outputs": [
    {
     "name": "stdout",
     "output_type": "stream",
     "text": [
      "Value of European call option is 15.65471972682358\n"
     ]
    }
   ],
   "source": [
    "if __name__ == '__main__':\n",
    "    BSM_value = BSM_call_value(S0, K, T, r, vola)\n",
    "    print(f'Value of European call option is {BSM_value}')"
   ]
  },
  {
   "cell_type": "code",
   "execution_count": null,
   "id": "19c2295e",
   "metadata": {},
   "outputs": [],
   "source": []
  }
 ],
 "metadata": {
  "kernelspec": {
   "display_name": "Python 3 (ipykernel)",
   "language": "python",
   "name": "python3"
  },
  "language_info": {
   "codemirror_mode": {
    "name": "ipython",
    "version": 3
   },
   "file_extension": ".py",
   "mimetype": "text/x-python",
   "name": "python",
   "nbconvert_exporter": "python",
   "pygments_lexer": "ipython3",
   "version": "3.8.13"
  }
 },
 "nbformat": 4,
 "nbformat_minor": 5
}
