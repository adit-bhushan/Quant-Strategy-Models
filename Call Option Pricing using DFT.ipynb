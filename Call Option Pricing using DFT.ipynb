{
 "cells": [
  {
   "cell_type": "code",
   "execution_count": 1,
   "id": "8541c29c",
   "metadata": {},
   "outputs": [],
   "source": [
    "import math\n",
    "import numpy as np\n",
    "from numpy.fft import fft, ifft\n",
    "from convolution import revnp\n",
    "from parameters import *"
   ]
  },
  {
   "cell_type": "code",
   "execution_count": 2,
   "id": "83db9be2",
   "metadata": {},
   "outputs": [
    {
     "name": "stdout",
     "output_type": "stream",
     "text": [
      "Value of European option is   11.044\n",
      "Value of European option is   11.044\n",
      "Value of European option is   11.044\n"
     ]
    },
    {
     "name": "stderr",
     "output_type": "stream",
     "text": [
      "/tmp/ipykernel_69/1906834530.py:15: DeprecationWarning: `np.float` is a deprecated alias for the builtin `float`. To silence this warning, use `float` by itself. Doing this will not modify any behavior and is safe. If you specifically wanted the numpy scalar type, use `np.float64` here.\n",
      "Deprecated in NumPy 1.20; for more details and guidance: https://numpy.org/devdocs/release/1.20.0-notes.html#deprecations\n",
      "  qv = np.zeros(M + 1, dtype=np.float)\n"
     ]
    }
   ],
   "source": [
    "# Parmeter Adjustments\n",
    "M = 3  # number of time steps\n",
    "dt, df, u, d, q = get_binomial_parameters(M)\n",
    "\n",
    "# Array Generation for Stock Prices\n",
    "mu = np.arange(M + 1)\n",
    "mu = np.resize(mu, (M + 1, M + 1))\n",
    "md = np.transpose(mu)\n",
    "mu = u ** (mu - md)\n",
    "md = d ** md\n",
    "S = S0 * mu * md\n",
    "\n",
    "# Valuation by fft\n",
    "CT = np.maximum(S[:, -1] - K, 0)\n",
    "qv = np.zeros(M + 1, dtype=np.float)\n",
    "qv[0] = q\n",
    "qv[1] = 1 - q\n",
    "C0_a = fft(math.exp(-r * T) * ifft(CT) * ((M + 1) * ifft(revnp(qv))) ** M)\n",
    "C0_b = fft(math.exp(-r * T) * ifft(CT) * fft(qv) ** M)\n",
    "C0_c = ifft(math.exp(-r * T) * fft(CT) * fft(revnp(qv)) ** M)\n",
    "\n",
    "# Results Outpu\n",
    "print(\"Value of European option is %8.3f\" % np.real(C0_a[0]))\n",
    "print(\"Value of European option is %8.3f\" % np.real(C0_b[0]))\n",
    "print(\"Value of European option is %8.3f\" % np.real(C0_c[0]))"
   ]
  },
  {
   "cell_type": "code",
   "execution_count": null,
   "id": "4c915249",
   "metadata": {},
   "outputs": [],
   "source": []
  }
 ],
 "metadata": {
  "kernelspec": {
   "display_name": "Python 3 (ipykernel)",
   "language": "python",
   "name": "python3"
  },
  "language_info": {
   "codemirror_mode": {
    "name": "ipython",
    "version": 3
   },
   "file_extension": ".py",
   "mimetype": "text/x-python",
   "name": "python",
   "nbconvert_exporter": "python",
   "pygments_lexer": "ipython3",
   "version": "3.8.13"
  }
 },
 "nbformat": 4,
 "nbformat_minor": 5
}
